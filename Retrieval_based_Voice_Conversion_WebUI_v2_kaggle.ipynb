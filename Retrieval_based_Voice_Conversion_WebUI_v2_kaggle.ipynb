{
  "cells": [
    {
      "cell_type": "code",
      "execution_count": null,
      "metadata": {
        "_cell_guid": "fc2833ca-6157-4074-930a-1bf72464478b",
        "_uuid": "97194436-68e0-4ffd-a0a4-67c0cae25aa8",
        "execution": {
          "iopub.execute_input": "2023-08-08T12:14:04.984722Z",
          "iopub.status.busy": "2023-08-08T12:14:04.984345Z",
          "iopub.status.idle": "2023-08-08T12:17:05.076497Z",
          "shell.execute_reply": "2023-08-08T12:17:05.075256Z",
          "shell.execute_reply.started": "2023-08-08T12:14:04.984693Z"
        },
        "jupyter": {
          "outputs_hidden": false
        },
        "trusted": true,
        "id": "m4lM_QISaGcT"
      },
      "outputs": [],
      "source": [
        "# @title 安装依赖\n",
        "!apt-get -y install build-essential python3-dev ffmpeg\n",
        "!pip3 install --upgrade setuptools wheel\n",
        "!pip3 install --upgrade pip\n",
        "!pip3 install faiss-cpu==1.7.2 fairseq gradio==3.14.0 ffmpeg ffmpeg-python praat-parselmouth pyworld numpy==1.23.5 numba==0.56.4 librosa==0.9.2\n",
        "!pip3 install torch torchvision torchaudio\n",
        "##!pip3 install faiss-gpu fairseq gradio==3.35.1 ffmpeg ffmpeg-python praat-parselmouth pyworld numpy==1.23.5 numba==0.56.4 librosa==0.9.2"
      ]
    },
    {
      "cell_type": "code",
      "execution_count": null,
      "metadata": {
        "_cell_guid": "d99f608b-c63c-4a06-a0bf-717475a25394",
        "_uuid": "3834565d-c64b-4a3a-9720-652709f4e14f",
        "execution": {
          "iopub.execute_input": "2023-08-08T12:17:05.079069Z",
          "iopub.status.busy": "2023-08-08T12:17:05.078716Z",
          "iopub.status.idle": "2023-08-08T12:17:07.103410Z",
          "shell.execute_reply": "2023-08-08T12:17:07.101967Z",
          "shell.execute_reply.started": "2023-08-08T12:17:05.079034Z"
        },
        "jupyter": {
          "outputs_hidden": false
        },
        "trusted": true,
        "id": "c2XetvO5aGcU"
      },
      "outputs": [],
      "source": [
        "!mkdir content\n",
        "!mkdir content/Retrieval-based-Voice-Conversion-WebUI\n",
        "%cd /kaggle/working/content/Retrieval-based-Voice-Conversion-WebUI"
      ]
    },
    {
      "cell_type": "code",
      "execution_count": null,
      "metadata": {
        "_cell_guid": "979abafd-97f3-454e-81a7-c1d4642b0957",
        "_uuid": "ffb4a355-d5e9-46d0-9d0d-b4c246928a87",
        "execution": {
          "iopub.execute_input": "2023-08-08T12:18:03.390585Z",
          "iopub.status.busy": "2023-08-08T12:18:03.390144Z",
          "iopub.status.idle": "2023-08-08T12:18:09.114623Z",
          "shell.execute_reply": "2023-08-08T12:18:09.113349Z",
          "shell.execute_reply.started": "2023-08-08T12:18:03.390549Z"
        },
        "jupyter": {
          "outputs_hidden": false
        },
        "trusted": true,
        "id": "dLDioOvhaGcV"
      },
      "outputs": [],
      "source": [
        "!git init\n",
        "!git remote add origin https://github.com/RVC-Project/Retrieval-based-Voice-Conversion-WebUI.git\n",
        "!git fetch origin 9a20c3b28f8bec5f4e064ae8bae8083b2e7e5a38 --depth=1\n",
        "!git reset --hard FETCH_HEAD"
      ]
    },
    {
      "cell_type": "code",
      "execution_count": null,
      "metadata": {
        "_cell_guid": "41d041ea-5688-4a2f-a875-1bd108868802",
        "_uuid": "b9aa85f3-bd98-4529-8285-cd8c6cc33d19",
        "execution": {
          "iopub.execute_input": "2023-08-08T12:18:13.874312Z",
          "iopub.status.busy": "2023-08-08T12:18:13.873829Z",
          "iopub.status.idle": "2023-08-08T12:18:16.526741Z",
          "shell.execute_reply": "2023-08-08T12:18:16.525573Z",
          "shell.execute_reply.started": "2023-08-08T12:18:13.874272Z"
        },
        "jupyter": {
          "outputs_hidden": false
        },
        "trusted": true,
        "id": "XhzqvD78aGcV"
      },
      "outputs": [],
      "source": [
        "# @title 更新仓库（一般无需执行）\n",
        "!git pull\n",
        "#!rm -R *"
      ]
    },
    {
      "cell_type": "code",
      "execution_count": null,
      "metadata": {
        "_cell_guid": "b8037221-7147-4292-8290-1012f1a1add7",
        "_uuid": "286f1dfd-35fd-48c0-801c-f2e3298a7fd8",
        "execution": {
          "iopub.execute_input": "2023-08-08T12:18:22.450476Z",
          "iopub.status.busy": "2023-08-08T12:18:22.450044Z",
          "iopub.status.idle": "2023-08-08T12:19:32.561757Z",
          "shell.execute_reply": "2023-08-08T12:19:32.560686Z",
          "shell.execute_reply.started": "2023-08-08T12:18:22.450436Z"
        },
        "jupyter": {
          "outputs_hidden": false
        },
        "trusted": true,
        "id": "zlxYeiOeaGcV"
      },
      "outputs": [],
      "source": [
        "!pip install -r requirements.txt"
      ]
    },
    {
      "cell_type": "code",
      "execution_count": null,
      "metadata": {
        "_cell_guid": "8bf89dcd-fded-4166-be57-3d5925f3bb42",
        "_uuid": "258effd7-85ef-451d-9086-3270366881f0",
        "execution": {
          "iopub.execute_input": "2023-08-08T12:20:31.818252Z",
          "iopub.status.busy": "2023-08-08T12:20:31.817807Z",
          "iopub.status.idle": "2023-08-08T12:20:40.358862Z",
          "shell.execute_reply": "2023-08-08T12:20:40.357771Z",
          "shell.execute_reply.started": "2023-08-08T12:20:31.818214Z"
        },
        "jupyter": {
          "outputs_hidden": false
        },
        "trusted": true,
        "id": "6jnyv5vIaGcV"
      },
      "outputs": [],
      "source": [
        "# @title 安装aria2\n",
        "!apt -y install -qq aria2"
      ]
    },
    {
      "cell_type": "code",
      "execution_count": null,
      "metadata": {
        "_cell_guid": "5b9dfeb0-2303-47da-8229-83f80a280787",
        "_uuid": "1db7a246-912f-45d0-917d-61e2f1cdaa08",
        "execution": {
          "iopub.execute_input": "2023-08-08T12:20:40.361304Z",
          "iopub.status.busy": "2023-08-08T12:20:40.360949Z",
          "iopub.status.idle": "2023-08-08T12:21:50.733941Z",
          "shell.execute_reply": "2023-08-08T12:21:50.732785Z",
          "shell.execute_reply.started": "2023-08-08T12:20:40.361270Z"
        },
        "jupyter": {
          "outputs_hidden": false
        },
        "trusted": true,
        "id": "5a1zXck3aGcW"
      },
      "outputs": [],
      "source": [
        "# @title 下载底模\n",
        "\n",
        "# v1\n",
        "!aria2c --console-log-level=error -c -x 16 -s 16 -k 1M https://huggingface.co/lj1995/VoiceConversionWebUI/resolve/main/pretrained/D32k.pth -d /kaggle/working/content/Retrieval-based-Voice-Conversion-WebUI/pretrained -o D32k.pth\n",
        "!aria2c --console-log-level=error -c -x 16 -s 16 -k 1M https://huggingface.co/lj1995/VoiceConversionWebUI/resolve/main/pretrained/D40k.pth -d /kaggle/working/content/Retrieval-based-Voice-Conversion-WebUI/pretrained -o D40k.pth\n",
        "!aria2c --console-log-level=error -c -x 16 -s 16 -k 1M https://huggingface.co/lj1995/VoiceConversionWebUI/resolve/main/pretrained/D48k.pth -d /kaggle/working/content/Retrieval-based-Voice-Conversion-WebUI/pretrained -o D48k.pth\n",
        "!aria2c --console-log-level=error -c -x 16 -s 16 -k 1M https://huggingface.co/lj1995/VoiceConversionWebUI/resolve/main/pretrained/G32k.pth -d /kaggle/working/content/Retrieval-based-Voice-Conversion-WebUI/pretrained -o G32k.pth\n",
        "!aria2c --console-log-level=error -c -x 16 -s 16 -k 1M https://huggingface.co/lj1995/VoiceConversionWebUI/resolve/main/pretrained/G40k.pth -d /kaggle/working/content/Retrieval-based-Voice-Conversion-WebUI/pretrained -o G40k.pth\n",
        "!aria2c --console-log-level=error -c -x 16 -s 16 -k 1M https://huggingface.co/lj1995/VoiceConversionWebUI/resolve/main/pretrained/G48k.pth -d /kaggle/working/content/Retrieval-based-Voice-Conversion-WebUI/pretrained -o G48k.pth\n",
        "!aria2c --console-log-level=error -c -x 16 -s 16 -k 1M https://huggingface.co/lj1995/VoiceConversionWebUI/resolve/main/pretrained/f0D32k.pth -d /kaggle/working/content/Retrieval-based-Voice-Conversion-WebUI/pretrained -o f0D32k.pth\n",
        "!aria2c --console-log-level=error -c -x 16 -s 16 -k 1M https://huggingface.co/lj1995/VoiceConversionWebUI/resolve/main/pretrained/f0D40k.pth -d /kaggle/working/content/Retrieval-based-Voice-Conversion-WebUI/pretrained -o f0D40k.pth\n",
        "!aria2c --console-log-level=error -c -x 16 -s 16 -k 1M https://huggingface.co/lj1995/VoiceConversionWebUI/resolve/main/pretrained/f0D48k.pth -d /kaggle/working/content/Retrieval-based-Voice-Conversion-WebUI/pretrained -o f0D48k.pth\n",
        "!aria2c --console-log-level=error -c -x 16 -s 16 -k 1M https://huggingface.co/lj1995/VoiceConversionWebUI/resolve/main/pretrained/f0G32k.pth -d /kaggle/working/content/Retrieval-based-Voice-Conversion-WebUI/pretrained -o f0G32k.pth\n",
        "!aria2c --console-log-level=error -c -x 16 -s 16 -k 1M https://huggingface.co/lj1995/VoiceConversionWebUI/resolve/main/pretrained/f0G40k.pth -d /kaggle/working/content/Retrieval-based-Voice-Conversion-WebUI/pretrained -o f0G40k.pth\n",
        "!aria2c --console-log-level=error -c -x 16 -s 16 -k 1M https://huggingface.co/lj1995/VoiceConversionWebUI/resolve/main/pretrained/f0G48k.pth -d /kaggle/working/content/Retrieval-based-Voice-Conversion-WebUI/pretrained -o f0G48k.pth\n",
        "\n",
        "# v2\n",
        "# !aria2c --console-log-level=error -c -x 16 -s 16 -k 1M https://huggingface.co/lj1995/VoiceConversionWebUI/resolve/main/pretrained_v2/D32k.pth -d /kaggle/working/content/Retrieval-based-Voice-Conversion-WebUI/pretrained_v2 -o D32k.pth\n",
        "!aria2c --console-log-level=error -c -x 16 -s 16 -k 1M https://huggingface.co/lj1995/VoiceConversionWebUI/resolve/main/pretrained_v2/D40k.pth -d /kaggle/working/content/Retrieval-based-Voice-Conversion-WebUI/pretrained_v2 -o D40k.pth\n",
        "# !aria2c --console-log-level=error -c -x 16 -s 16 -k 1M https://huggingface.co/lj1995/VoiceConversionWebUI/resolve/main/pretrained_v2/D48k.pth -d /kaggle/working/content/Retrieval-based-Voice-Conversion-WebUI/pretrained_v2 -o D48k.pth\n",
        "# !aria2c --console-log-level=error -c -x 16 -s 16 -k 1M https://huggingface.co/lj1995/VoiceConversionWebUI/resolve/main/pretrained_v2/G32k.pth -d /kaggle/working/content/Retrieval-based-Voice-Conversion-WebUI/pretrained_v2 -o G32k.pth\n",
        "!aria2c --console-log-level=error -c -x 16 -s 16 -k 1M https://huggingface.co/lj1995/VoiceConversionWebUI/resolve/main/pretrained_v2/G40k.pth -d /kaggle/working/content/Retrieval-based-Voice-Conversion-WebUI/pretrained_v2 -o G40k.pth\n",
        "# !aria2c --console-log-level=error -c -x 16 -s 16 -k 1M https://huggingface.co/lj1995/VoiceConversionWebUI/resolve/main/pretrained_v2/G48k.pth -d /kaggle/working/content/Retrieval-based-Voice-Conversion-WebUI/pretrained_v2 -o G48k.pth\n",
        "# !aria2c --console-log-level=error -c -x 16 -s 16 -k 1M https://huggingface.co/lj1995/VoiceConversionWebUI/resolve/main/pretrained_v2/f0D32k.pth -d /kaggle/working/content/Retrieval-based-Voice-Conversion-WebUI/pretrained_v2 -o f0D32k.pth\n",
        "!aria2c --console-log-level=error -c -x 16 -s 16 -k 1M https://huggingface.co/lj1995/VoiceConversionWebUI/resolve/main/pretrained_v2/f0D40k.pth -d /kaggle/working/content/Retrieval-based-Voice-Conversion-WebUI/pretrained_v2 -o f0D40k.pth\n",
        "# !aria2c --console-log-level=error -c -x 16 -s 16 -k 1M https://huggingface.co/lj1995/VoiceConversionWebUI/resolve/main/pretrained_v2/f0D48k.pth -d /kaggle/working/content/Retrieval-based-Voice-Conversion-WebUI/pretrained_v2 -o f0D48k.pth\n",
        "# !aria2c --console-log-level=error -c -x 16 -s 16 -k 1M https://huggingface.co/lj1995/VoiceConversionWebUI/resolve/main/pretrained_v2/f0G32k.pth -d /kaggle/working/content/Retrieval-based-Voice-Conversion-WebUI/pretrained_v2 -o f0G32k.pth\n",
        "!aria2c --console-log-level=error -c -x 16 -s 16 -k 1M https://huggingface.co/lj1995/VoiceConversionWebUI/resolve/main/pretrained_v2/f0G40k.pth -d /kaggle/working/content/Retrieval-based-Voice-Conversion-WebUI/pretrained_v2 -o f0G40k.pth\n",
        "# !aria2c --console-log-level=error -c -x 16 -s 16 -k 1M https://huggingface.co/lj1995/VoiceConversionWebUI/resolve/main/pretrained_v2/f0G48k.pth -d /kaggle/working/content/Retrieval-based-Voice-Conversion-WebUI/pretrained_v2 -o f0G48k.pth"
      ]
    },
    {
      "cell_type": "code",
      "execution_count": null,
      "metadata": {
        "_cell_guid": "4a0d7b3d-f07c-46a8-9ec3-bf45d1d5e6b1",
        "_uuid": "db1c9b13-08c8-4186-b4a9-6f489b1170f3",
        "execution": {
          "iopub.execute_input": "2023-08-08T12:21:50.736649Z",
          "iopub.status.busy": "2023-08-08T12:21:50.736243Z",
          "iopub.status.idle": "2023-08-08T12:22:02.014806Z",
          "shell.execute_reply": "2023-08-08T12:22:02.013371Z",
          "shell.execute_reply.started": "2023-08-08T12:21:50.736600Z"
        },
        "jupyter": {
          "outputs_hidden": false
        },
        "trusted": true,
        "id": "Wf6hx6-9aGcX"
      },
      "outputs": [],
      "source": [
        "# @title 下载人声分离模型\n",
        "!aria2c --console-log-level=error -c -x 16 -s 16 -k 1M https://huggingface.co/lj1995/VoiceConversionWebUI/resolve/main/uvr5_weights/HP2-人声vocals+非人声instrumentals.pth -d /kaggle/working/content/Retrieval-based-Voice-Conversion-WebUI/uvr5_weights -o HP2-人声vocals+非人声instrumentals.pth\n",
        "!aria2c --console-log-level=error -c -x 16 -s 16 -k 1M https://huggingface.co/lj1995/VoiceConversionWebUI/resolve/main/uvr5_weights/HP5-主旋律人声vocals+其他instrumentals.pth -d /kaggle/working/content/Retrieval-based-Voice-Conversion-WebUI/uvr5_weights -o HP5-主旋律人声vocals+其他instrumentals.pth"
      ]
    },
    {
      "cell_type": "code",
      "execution_count": null,
      "metadata": {
        "_cell_guid": "f16d3428-1fb8-41f2-bbaf-e1e68e54b6ed",
        "_uuid": "3daf1b14-54b7-4469-8e2e-adfd9d275b6e",
        "execution": {
          "iopub.execute_input": "2023-08-08T12:22:02.016867Z",
          "iopub.status.busy": "2023-08-08T12:22:02.016487Z",
          "iopub.status.idle": "2023-08-08T12:22:06.052722Z",
          "shell.execute_reply": "2023-08-08T12:22:06.051437Z",
          "shell.execute_reply.started": "2023-08-08T12:22:02.016832Z"
        },
        "jupyter": {
          "outputs_hidden": false
        },
        "trusted": true,
        "id": "Ga3ELLPjaGcX"
      },
      "outputs": [],
      "source": [
        "# @title 下载hubert_base\n",
        "!aria2c --console-log-level=error -c -x 16 -s 16 -k 1M https://huggingface.co/lj1995/VoiceConversionWebUI/resolve/main/hubert_base.pt -d /kaggle/working/content/Retrieval-based-Voice-Conversion-WebUI -o hubert_base.pt"
      ]
    },
    {
      "cell_type": "code",
      "execution_count": null,
      "metadata": {
        "_cell_guid": "bb33fe84-133f-4f46-9b55-9d12ae71a11c",
        "_uuid": "8837b647-df9e-4dea-9e45-290dbc202757",
        "execution": {
          "iopub.execute_input": "2023-08-08T12:22:06.057167Z",
          "iopub.status.busy": "2023-08-08T12:22:06.056004Z",
          "iopub.status.idle": "2023-08-08T12:22:16.461648Z",
          "shell.execute_reply": "2023-08-08T12:22:16.460065Z",
          "shell.execute_reply.started": "2023-08-08T12:22:06.057094Z"
        },
        "jupyter": {
          "outputs_hidden": false
        },
        "trusted": true,
        "id": "axkxH-_YaGcX"
      },
      "outputs": [],
      "source": [
        "# @title 从谷歌云盘加载打包好的数据集到/content/dataset\n",
        "\n",
        "# @markdown 数据集位置\n",
        "#DATASET = (\n",
        "#    \"/content/drive/MyDrive/dataset/lukhovchanka-medium.zip\"  # @param {type:\"string\"}\n",
        "#)\n",
        "\n",
        "#!mkdir -p /kaggle/working/content/dataset\n",
        "#!unzip -d /kaggle/working/content/dataset -B {DATASET}\n",
        "\n",
        "!mkdir -p \"dataset_raw\"\n",
        "!cp -R /kaggle/input/lukhovchanka-sasha/* -t \"dataset_raw/\""
      ]
    },
    {
      "cell_type": "code",
      "execution_count": null,
      "metadata": {
        "_cell_guid": "34e7bf7e-b72b-4ca0-b3e6-ac9183f4e89c",
        "_uuid": "576c8603-f1cf-4baf-96a3-71147701bd9a",
        "jupyter": {
          "outputs_hidden": false
        },
        "trusted": true,
        "id": "cBTeQkVEaGcY"
      },
      "outputs": [],
      "source": [
        "# @title 重命名数据集中的重名文件\n",
        "#!ls -a /kaggle/working/content/dataset/\n",
        "#!rename 's/(\\w+)\\.(\\w+)~(\\d*)/$1_$3.$2/' /kaggle/working/content/dataset/*.*~*"
      ]
    },
    {
      "cell_type": "code",
      "execution_count": null,
      "metadata": {
        "_cell_guid": "b717715f-94e7-4f10-8b11-7f1fbc393160",
        "_uuid": "54640c48-e7c8-4aad-b295-a4b48dba9fab",
        "execution": {
          "iopub.execute_input": "2023-08-08T12:22:16.464302Z",
          "iopub.status.busy": "2023-08-08T12:22:16.463801Z",
          "iopub.status.idle": "2023-08-08T12:22:19.326032Z",
          "shell.execute_reply": "2023-08-08T12:22:19.324788Z",
          "shell.execute_reply.started": "2023-08-08T12:22:16.464255Z"
        },
        "jupyter": {
          "outputs_hidden": false
        },
        "trusted": true,
        "id": "fqpQwMgmaGcY"
      },
      "outputs": [],
      "source": [
        "#https://huggingface.co/lj1995/VoiceConversionWebUI/blob/main/rmvpe.pt\n",
        "#!pip3 install faiss-gpu fairseq gradio==3.35.1 ffmpeg ffmpeg-python praat-parselmouth pyworld numpy==1.23.5 numba==0.56.4 librosa==0.9.2\n",
        "#!pip3 install tensorboardX\n",
        "!aria2c --console-log-level=error -c -x 16 -s 16 -k 1M https://huggingface.co/lj1995/VoiceConversionWebUI/resolve/main/rmvpe.pt -d /kaggle/working/content/Retrieval-based-Voice-Conversion-WebUI -o rmvpe.pt\n",
        "#!curl -o /kaggle/working/content/Retrieval-based-Voice-Conversion-WebUI/rmvpe.pt https://drive.google.com/file/d/1bL6w-k6_0t5bESCdsBz40_HbTpzmwvCf/view?usp=drive_link"
      ]
    },
    {
      "cell_type": "code",
      "execution_count": null,
      "metadata": {
        "_cell_guid": "fc2ba4fc-7dcf-4a94-9c51-569549f85e50",
        "_uuid": "e01a84d7-c32f-4242-92ae-de002c15a8dc",
        "execution": {
          "iopub.execute_input": "2023-08-08T12:22:19.329095Z",
          "iopub.status.busy": "2023-08-08T12:22:19.328572Z",
          "iopub.status.idle": "2023-08-08T12:22:19.336526Z",
          "shell.execute_reply": "2023-08-08T12:22:19.335614Z",
          "shell.execute_reply.started": "2023-08-08T12:22:19.329044Z"
        },
        "jupyter": {
          "outputs_hidden": false
        },
        "trusted": true,
        "id": "-TDRrR4PaGcY"
      },
      "outputs": [],
      "source": [
        "# @title 启动web\n",
        "%cd /kaggle/working/content/Retrieval-based-Voice-Conversion-WebUI\n",
        "# %load_ext tensorboard\n",
        "# %tensorboard --logdir /kaggle/working/content/Retrieval-based-Voice-Conversion-WebUI/logs\n",
        "#!python3 infer-web.py --colab --pycmd python3"
      ]
    },
    {
      "cell_type": "code",
      "execution_count": null,
      "metadata": {
        "_cell_guid": "d640cb2d-efa8-4326-9116-eedf53a389be",
        "_uuid": "c77793f7-b8e0-4173-9f53-7fce3d357fcd",
        "execution": {
          "iopub.execute_input": "2023-08-08T12:51:08.375199Z",
          "iopub.status.busy": "2023-08-08T12:51:08.374762Z",
          "iopub.status.idle": "2023-08-08T12:51:09.397678Z",
          "shell.execute_reply": "2023-08-08T12:51:09.396322Z",
          "shell.execute_reply.started": "2023-08-08T12:51:08.375162Z"
        },
        "jupyter": {
          "outputs_hidden": false
        },
        "trusted": true,
        "id": "GluV-nZvaGcY"
      },
      "outputs": [],
      "source": [
        "!mkdir -p logs/mi-test\n",
        "!touch logs/mi-test/preprocess.log\n",
        "#!touch logs/mi-test/filelist.txt\n",
        "#!touch logs/filelist.txt\n",
        "\n",
        "!touch logs/mi-test/extract_f0_feature.log\n",
        "#python extract_f0_print.py logs/mi-test $(nproc) pm\n",
        "#python extract_feature_print.py cpu 1 0 0 logs/mi-test v1\n",
        "\n",
        "# \"/content/dataset\" Enter the path of the training folder:\n",
        "# 40000    Target sample rate\n",
        "# 1        Number of CPU processes used for pitch extraction and data processing:\n",
        "# \"/content/Retrieval-based-Voice-Conversion-WebUI/logs/mi-test\"\n",
        "# False\n",
        "#!python3 trainset_preprocess_pipeline_print.py \"/kaggle/working/content/Retrieval-based-Voice-Conversion-WebUI/dataset_raw\" 40000 1 \"/kaggle/working/content/Retrieval-based-Voice-Conversion-WebUI/logs/mi-test\" False"
      ]
    },
    {
      "cell_type": "code",
      "execution_count": null,
      "metadata": {
        "_cell_guid": "e99f592d-ec96-41de-9842-22aea30e4618",
        "_uuid": "397de858-35b6-46d1-8ecd-3f8793ba3ae0",
        "execution": {
          "iopub.execute_input": "2023-08-08T12:23:53.839258Z",
          "iopub.status.busy": "2023-08-08T12:23:53.838778Z",
          "iopub.status.idle": "2023-08-08T12:25:40.939175Z",
          "shell.execute_reply": "2023-08-08T12:25:40.937765Z",
          "shell.execute_reply.started": "2023-08-08T12:23:53.839217Z"
        },
        "jupyter": {
          "outputs_hidden": false
        },
        "trusted": true,
        "id": "YyZXCmR-aGcY"
      },
      "outputs": [],
      "source": [
        "# @title 手动预处理（不推荐）\n",
        "# @markdown 模型名\n",
        "MODELNAME = \"mi-test\"  # @param {type:\"string\"}\n",
        "# @markdown 采样率\n",
        "BITRATE = 40000  # @param {type:\"integer\"}\n",
        "# @markdown 使用的进程数\n",
        "THREADCOUNT = 8  # @param {type:\"integer\"}\n",
        "\n",
        "!python3 trainset_preprocess_pipeline_print.py /kaggle/working/content/Retrieval-based-Voice-Conversion-WebUI/dataset_raw {BITRATE} {THREADCOUNT} logs/{MODELNAME} True"
      ]
    },
    {
      "cell_type": "code",
      "execution_count": null,
      "metadata": {
        "_cell_guid": "314f3bd5-0080-4c66-a122-dc7e98123883",
        "_uuid": "17f65d2a-1c0a-444d-8f54-2d043c662a54",
        "jupyter": {
          "outputs_hidden": false
        },
        "trusted": true,
        "id": "BI7F2pYyaGcY"
      },
      "outputs": [],
      "source": [
        "#!python3 extract_f0_rmvpe.py 2 0 0 \"/kaggle/working/content/Retrieval-based-Voice-Conversion-WebUI/logs/mi-test\" True\n",
        "#!python3 extract_f0_rmvpe.py 2 1 0 \"/kaggle/working/content/Retrieval-based-Voice-Conversion-WebUI/logs/mi-test\" True"
      ]
    },
    {
      "cell_type": "code",
      "execution_count": null,
      "metadata": {
        "_cell_guid": "f11798a9-5759-463c-b467-df997f701700",
        "_uuid": "872a10b1-f68d-4ba8-8208-228081e90c34",
        "execution": {
          "iopub.execute_input": "2023-08-08T13:01:51.981205Z",
          "iopub.status.busy": "2023-08-08T13:01:51.980662Z",
          "iopub.status.idle": "2023-08-08T13:10:18.050952Z",
          "shell.execute_reply": "2023-08-08T13:10:18.049440Z",
          "shell.execute_reply.started": "2023-08-08T13:01:51.981154Z"
        },
        "jupyter": {
          "outputs_hidden": false
        },
        "trusted": true,
        "id": "61uo0TZJaGcY"
      },
      "outputs": [],
      "source": [
        "# @title 手动提取特征（不推荐）\n",
        "# @markdown 模型名\n",
        "MODELNAME = \"mi-test\"  # @param {type:\"string\"}\n",
        "# @markdown 使用的进程数\n",
        "THREADCOUNT = 8  # @param {type:\"integer\"}\n",
        "# @markdown 音高提取算法\n",
        "ALGO = \"rmvpe\"  # @param {type:\"string\"} pm|harvest|crepe|rmvpe\n",
        "\n",
        "!python3 extract_f0_print.py logs/{MODELNAME} {THREADCOUNT} {ALGO}\n",
        "\n",
        "!python3 extract_feature_print.py cpu 1 0 0 logs/{MODELNAME} v2"
      ]
    },
    {
      "cell_type": "code",
      "execution_count": null,
      "metadata": {
        "_cell_guid": "7a83b346-659f-40a3-b93e-a737bbea43a0",
        "_uuid": "619eacd5-d0fb-4abe-bffb-18654928fc8e",
        "execution": {
          "iopub.execute_input": "2023-08-08T13:14:15.600958Z",
          "iopub.status.busy": "2023-08-08T13:14:15.600514Z",
          "iopub.status.idle": "2023-08-08T13:14:15.629697Z",
          "shell.execute_reply": "2023-08-08T13:14:15.628575Z",
          "shell.execute_reply.started": "2023-08-08T13:14:15.600921Z"
        },
        "jupyter": {
          "outputs_hidden": false
        },
        "trusted": true,
        "id": "kktagXwnaGcZ"
      },
      "outputs": [],
      "source": [
        "import os\n",
        "from random import shuffle\n",
        "\n",
        "version19 = \"v2\"\n",
        "now_dir = os.getcwd()\n",
        "exp_dir1 = \"mi-test\"\n",
        "if_f0_3 = True\n",
        "sr2 = \"40k\"\n",
        "spk_id5 = 0\n",
        "\n",
        "# 生成filelist\n",
        "exp_dir = \"%s/logs/%s\" % (now_dir, exp_dir1)\n",
        "os.makedirs(exp_dir, exist_ok=True)\n",
        "gt_wavs_dir = \"%s/0_gt_wavs\" % (exp_dir)\n",
        "feature_dir = (\n",
        "    \"%s/3_feature256\" % (exp_dir)\n",
        "    if version19 == \"v1\"\n",
        "    else \"%s/3_feature768\" % (exp_dir)\n",
        ")\n",
        "if if_f0_3:\n",
        "    f0_dir = \"%s/2a_f0\" % (exp_dir)\n",
        "    f0nsf_dir = \"%s/2b-f0nsf\" % (exp_dir)\n",
        "    names = (\n",
        "        set([name.split(\".\")[0] for name in os.listdir(gt_wavs_dir)])\n",
        "        & set([name.split(\".\")[0] for name in os.listdir(feature_dir)])\n",
        "        & set([name.split(\".\")[0] for name in os.listdir(f0_dir)])\n",
        "        & set([name.split(\".\")[0] for name in os.listdir(f0nsf_dir)])\n",
        "    )\n",
        "else:\n",
        "    names = set([name.split(\".\")[0] for name in os.listdir(gt_wavs_dir)]) & set(\n",
        "        [name.split(\".\")[0] for name in os.listdir(feature_dir)]\n",
        "    )\n",
        "opt = []\n",
        "for name in names:\n",
        "    if if_f0_3:\n",
        "        opt.append(\n",
        "            \"%s/%s.wav|%s/%s.npy|%s/%s.wav.npy|%s/%s.wav.npy|%s\"\n",
        "            % (\n",
        "                gt_wavs_dir.replace(\"\\\\\", \"\\\\\\\\\"),\n",
        "                name,\n",
        "                feature_dir.replace(\"\\\\\", \"\\\\\\\\\"),\n",
        "                name,\n",
        "                f0_dir.replace(\"\\\\\", \"\\\\\\\\\"),\n",
        "                name,\n",
        "                f0nsf_dir.replace(\"\\\\\", \"\\\\\\\\\"),\n",
        "                name,\n",
        "                spk_id5,\n",
        "            )\n",
        "        )\n",
        "    else:\n",
        "        opt.append(\n",
        "            \"%s/%s.wav|%s/%s.npy|%s\"\n",
        "            % (\n",
        "                gt_wavs_dir.replace(\"\\\\\", \"\\\\\\\\\"),\n",
        "                name,\n",
        "                feature_dir.replace(\"\\\\\", \"\\\\\\\\\"),\n",
        "                name,\n",
        "                spk_id5,\n",
        "            )\n",
        "        )\n",
        "fea_dim = 256 if version19 == \"v1\" else 768\n",
        "if if_f0_3:\n",
        "    for _ in range(2):\n",
        "        opt.append(\n",
        "            \"%s/logs/mute/0_gt_wavs/mute%s.wav|%s/logs/mute/3_feature%s/mute.npy|%s/logs/mute/2a_f0/mute.wav.npy|%s/logs/mute/2b-f0nsf/mute.wav.npy|%s\"\n",
        "            % (now_dir, sr2, now_dir, fea_dim, now_dir, now_dir, spk_id5)\n",
        "        )\n",
        "else:\n",
        "    for _ in range(2):\n",
        "        opt.append(\n",
        "            \"%s/logs/mute/0_gt_wavs/mute%s.wav|%s/logs/mute/3_feature%s/mute.npy|%s\"\n",
        "            % (now_dir, sr2, now_dir, fea_dim, spk_id5)\n",
        "        )\n",
        "shuffle(opt)\n",
        "with open(\"%s/filelist.txt\" % exp_dir, \"w\") as f:\n",
        "    f.write(\"\\n\".join(opt))\n",
        "print(\"write filelist done\")"
      ]
    },
    {
      "cell_type": "code",
      "execution_count": null,
      "metadata": {
        "_cell_guid": "37667197-6f23-41a4-acab-5b0f9d552803",
        "_uuid": "15eaf840-c740-49a4-a968-2dfb160126fb",
        "jupyter": {
          "outputs_hidden": false
        },
        "trusted": true,
        "id": "3ZtM59b6aGcZ"
      },
      "outputs": [],
      "source": [
        "#!python3 train_nsf_sim_cache_sid_load_pretrain.py -e \"mi-test\" -sr 40k -f0 1 -bs 10 -g 0 -te 200 -se 50 -pg pretrained_v2/f0G40k.pth -pd pretrained_v2/f0D40k.pth -l 0 -c 0 -sw 0 -v v2"
      ]
    },
    {
      "cell_type": "code",
      "execution_count": null,
      "metadata": {
        "_cell_guid": "1d0dce3a-317f-4552-9a79-419ed8c642ff",
        "_uuid": "0a0eabfa-0767-4350-935a-6e6ec56f207f",
        "jupyter": {
          "outputs_hidden": false
        },
        "trusted": true,
        "id": "lL-BhQu2aGcZ"
      },
      "outputs": [],
      "source": [
        "# @title 手动训练（不推荐）\n",
        "# @markdown 模型名\n",
        "MODELNAME = \"mi-test\"  # @param {type:\"string\"}\n",
        "# @markdown 使用的GPU\n",
        "USEGPU = \"1\"  # @param {type:\"string\"}\n",
        "# @markdown 批大小\n",
        "BATCHSIZE = 7  # @param {type:\"integer\"}\n",
        "# @markdown 停止的epoch\n",
        "MODELEPOCH = 100  # @param {type:\"integer\"}\n",
        "# @markdown 保存epoch间隔\n",
        "EPOCHSAVE = 50  # @param {type:\"integer\"}\n",
        "# @markdown 采样率\n",
        "MODELSAMPLE = \"40k\"  # @param {type:\"string\"}\n",
        "# @markdown 是否缓存训练集\n",
        "CACHEDATA = 0  # @param {type:\"integer\"}\n",
        "# @markdown 是否仅保存最新的ckpt文件\n",
        "ONLYLATEST = 0  # @param {type:\"integer\"}\n",
        "\n",
        "!python3 train_nsf_sim_cache_sid_load_pretrain.py -e {MODELNAME} -sr {MODELSAMPLE} -f0 1 -bs {BATCHSIZE} -g {USEGPU} -te {MODELEPOCH} -se {EPOCHSAVE} -pg pretrained_v2/f0G{MODELSAMPLE}.pth -pd pretrained_v2/f0D{MODELSAMPLE}.pth -l {ONLYLATEST} -c {CACHEDATA} -sw 1 -v v2"
      ]
    }
  ],
  "metadata": {
    "kernelspec": {
      "display_name": "Python 3",
      "language": "python",
      "name": "python3"
    },
    "language_info": {
      "codemirror_mode": {
        "name": "ipython",
        "version": 3
      },
      "file_extension": ".py",
      "mimetype": "text/x-python",
      "name": "python",
      "nbconvert_exporter": "python",
      "pygments_lexer": "ipython3",
      "version": "3.6.4"
    },
    "colab": {
      "provenance": []
    }
  },
  "nbformat": 4,
  "nbformat_minor": 0
}